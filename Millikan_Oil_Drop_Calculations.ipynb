{
  "nbformat": 4,
  "nbformat_minor": 0,
  "metadata": {
    "colab": {
      "provenance": [],
      "include_colab_link": true
    },
    "kernelspec": {
      "name": "python3",
      "display_name": "Python 3"
    },
    "language_info": {
      "name": "python"
    }
  },
  "cells": [
    {
      "cell_type": "markdown",
      "metadata": {
        "id": "view-in-github",
        "colab_type": "text"
      },
      "source": [
        "<a href=\"https://colab.research.google.com/github/abdullahkhan57721/Advanced-Physics-Lab/blob/main/Millikan_Oil_Drop_Calculations.ipynb\" target=\"_parent\"><img src=\"https://colab.research.google.com/assets/colab-badge.svg\" alt=\"Open In Colab\"/></a>"
      ]
    },
    {
      "cell_type": "code",
      "execution_count": null,
      "metadata": {
        "id": "nkTbB15G5x2B"
      },
      "outputs": [],
      "source": [
        "import numpy as np\n",
        "import math\n"
      ]
    },
    {
      "cell_type": "code",
      "source": [
        "#constants\n",
        "pi = math.pi\n",
        "g = 9.8\n",
        "b = 8.2E-3\n",
        "density=886.0\n",
        "d = 7.64E-3\n",
        "visc=1.8390E-5\n",
        "voltage=475.2 #average\n",
        "p=1.01E5\n",
        "\n",
        "\n",
        "q = 1.60217662E-19\n"
      ],
      "metadata": {
        "id": "xFolKA6i8oXw"
      },
      "execution_count": null,
      "outputs": []
    },
    {
      "cell_type": "code",
      "source": [
        "\n",
        "def chargePrint(vr,vf):\n",
        "  value1 = math.sqrt((b/(2.0*p))**2+((9*visc*vf)/(2*g*density))) - (b/(2.0*p))\n",
        "  value2 = (density*g*d*(vf+vr))/(voltage*vf)\n",
        "  charge = 4.0*(pi/3.0)*((float(value1))**3)*(float(value2))\n",
        "  print(charge)\n",
        "\n"
      ],
      "metadata": {
        "id": "bhRJW8886JWw"
      },
      "execution_count": null,
      "outputs": []
    },
    {
      "cell_type": "code",
      "source": [
        "_1A = 0.00006218114 #Off field velocity\n",
        "_1B = 0.0003226304 #Up field vel\n",
        "_1C = 2.446043123161650000E-05 #Up field vel after ionizing\n",
        "chargePrint(_1B,_1A)\n",
        "chargePrint(_1C,_1A)\n",
        "\n"
      ],
      "metadata": {
        "colab": {
          "base_uri": "https://localhost:8080/"
        },
        "id": "Ha6-9CgRPITV",
        "outputId": "4cccd0cc-38ab-4b51-abb6-f451eb508014"
      },
      "execution_count": null,
      "outputs": [
        {
          "output_type": "stream",
          "name": "stdout",
          "text": [
            "1.4095286073426998e-18\n",
            "3.173599555670387e-19\n"
          ]
        }
      ]
    },
    {
      "cell_type": "code",
      "source": [
        "num = 1.8956807434408696e-18\n",
        "\n",
        "denom = 6.334787784323557e-19\n"
      ],
      "metadata": {
        "id": "8P7Oafn4bCAu"
      },
      "execution_count": null,
      "outputs": []
    },
    {
      "cell_type": "code",
      "source": [
        "ratio = num/denom\n",
        "print(ratio)\n",
        "print(num/q)\n",
        "print(denom/q)\n",
        "print((num-denom)/q)"
      ],
      "metadata": {
        "colab": {
          "base_uri": "https://localhost:8080/"
        },
        "id": "T-eVySc8aiOL",
        "outputId": "0eb1d9eb-22f5-4679-a4f6-b4f26af402f8"
      },
      "execution_count": null,
      "outputs": [
        {
          "output_type": "stream",
          "name": "stdout",
          "text": [
            "2.9924928947612646\n",
            "11.831908665855263\n",
            "3.953863578613172\n",
            "7.878045087242092\n"
          ]
        }
      ]
    },
    {
      "cell_type": "code",
      "source": [
        "print(num/12)\n",
        "print(denom/4)\n",
        "print((num-denom)/8)"
      ],
      "metadata": {
        "colab": {
          "base_uri": "https://localhost:8080/"
        },
        "id": "CXylDjObM_Np",
        "outputId": "af5060fd-abe0-4637-ef14-c5bbc90c08fb"
      },
      "execution_count": null,
      "outputs": [
        {
          "output_type": "stream",
          "name": "stdout",
          "text": [
            "1.5797339528673913e-19\n",
            "1.5836969460808892e-19\n",
            "1.5777524562606426e-19\n"
          ]
        }
      ]
    }
  ]
}